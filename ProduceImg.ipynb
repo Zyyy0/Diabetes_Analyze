{
 "cells": [
  {
   "cell_type": "code",
   "execution_count": null,
   "id": "b1e0e814-1a95-41b8-8258-217d381771a0",
   "metadata": {},
   "outputs": [],
   "source": [
    "from turtle import *\n",
    "import colorsys\n",
    "speed(0)\n",
    "bgcolor(\"blue\")\n",
    "h = 0\n",
    "for i in range(16):\n",
    "    for j in range(18):\n",
    "        c = colorsys.hsv_to_rgb(h, 1 , 1)\n",
    "        color(c)\n",
    "        h += 0.005\n",
    "        rt(90)\n",
    "        circle(150 - j * 6, 90)\n",
    "        lt(90)\n",
    "        circle(150 - j * 6 , 90)\n",
    "        rt(180)\n",
    "    circle(40,24)\n",
    "done()"
   ]
  },
  {
   "cell_type": "code",
   "execution_count": null,
   "id": "911d15fb-1044-4939-a70d-867ff1dfa7ef",
   "metadata": {},
   "outputs": [],
   "source": []
  }
 ],
 "metadata": {
  "kernelspec": {
   "display_name": "Python 3 (ipykernel)",
   "language": "python",
   "name": "python3"
  },
  "language_info": {
   "codemirror_mode": {
    "name": "ipython",
    "version": 3
   },
   "file_extension": ".py",
   "mimetype": "text/x-python",
   "name": "python",
   "nbconvert_exporter": "python",
   "pygments_lexer": "ipython3",
   "version": "3.8.18"
  }
 },
 "nbformat": 4,
 "nbformat_minor": 5
}
